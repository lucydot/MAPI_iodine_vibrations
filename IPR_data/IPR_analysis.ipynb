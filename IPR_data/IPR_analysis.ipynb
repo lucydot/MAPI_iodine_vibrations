{
 "cells": [
  {
   "cell_type": "code",
   "execution_count": 1,
   "metadata": {},
   "outputs": [],
   "source": [
    "import pickle\n",
    "import matplotlib.pyplot as plt\n",
    "import itertools\n",
    "%matplotlib inline"
   ]
  },
  {
   "cell_type": "markdown",
   "metadata": {},
   "source": [
    "## Introduction\n",
    "\n",
    "- This notebook contains steps to analyse the harmonic phonon properties of the hybrid halide perovskite MAPI with a negatively charged iodine interstitial defect\n",
    "- `IPR_dictionary.p` contains various properties (including inverse participation ratio) of each gamma-point harmonic phonon mode in a 222 supercell (96-atom) of MAPI with a negative iodine interstitial.\n",
    "- The defect structure is included in this folder as `POSCAR.vasp`\n",
    "\n",
    "### Associated literature\n",
    "\n",
    "Further details (including structural relaxation and phonon calculation details) can be found in:\n",
    "   - L. D. Whalley et al., 2020. *[Giant Huang-Rhys factor for electron capture at the iodine interstitial in MAPI]()*\n",
    "   - L.D. Whalley, 2019. PhD thesis, *[Defects and Distortions in Hybrid Halide Perovskites](https://doi.org/10.25560/79304)* (Chapter 6)\n",
    "\n",
    "### Inverse Participation Ratio\n",
    "\n",
    "To identify which phonon modes are associated with the iodine interstitial defect we use the Inverse Participation Ratio (IPR) to quantify localisation.\n",
    "\n",
    "The IPR is calculated from the harmonic phonon eigenvectors $e_i$ of the system and is given by\n",
    "\\begin{equation}\n",
    "\\mathrm{IPR} = \\frac{\\sum_{i=1}^N\\left(|e_i|\\right)^2}{\\left(\\sum_{i=1}^N|e_i|\\right)^2},\n",
    "\\end{equation}\n",
    "where N is the number of phonon modes. This provides a measure of how many atoms the phonon is distributed over. For example, for a chain of $N=4$ atoms, a fully delocalised acoustic mode will have an $\\textrm{IPR}=\\frac{1}{N}=0.25$. At the other extreme, a fully localised phonon mode whose polarisation displaces only one atom will have an $\\textrm{IPR}=1$.\n",
    "\n",
    "The Inverse Participation Ratio (IPR) can be calculated using the [juliaphonons package](https://github.com/jarvist/Julia-Phonons). The harmonic phonon eigenfunctions and frequencies can be calculated using [phonopy](https://phonopy.github.io/phonopy/) to pre- and post-process forces calculated using e.g. Density Function Theory, Molecular Dynamics.\n",
    "\n",
    "## IPR Analysis\n",
    "\n",
    "Note that I am analysing phonons at the gamma point only.\n",
    "\n",
    "### 1. Perfect phonon modes\n",
    "First lets look at the phonon modes of the perfect crystal without a defect.\n"
   ]
  },
  {
   "cell_type": "code",
   "execution_count": 55,
   "metadata": {},
   "outputs": [
    {
     "data": {
      "text/plain": [
       "5.707384901965092"
      ]
     },
     "execution_count": 55,
     "metadata": {},
     "output_type": "execute_result"
    }
   ],
   "source": [
    "phonon_properties[19]['IPR-distance']"
   ]
  },
  {
   "cell_type": "code",
   "execution_count": 50,
   "metadata": {},
   "outputs": [
    {
     "data": {
      "text/plain": [
       "Text(0.5, 0, 'IPR')"
      ]
     },
     "execution_count": 50,
     "metadata": {},
     "output_type": "execute_result"
    },
    {
     "data": {
      "image/png": "[encoded data removed]",
      "text/plain": [
       "<Figure size 432x288 with 1 Axes>"
      ]
     },
     "metadata": {
      "needs_background": "light"
     },
     "output_type": "display_data"
    }
   ],
   "source": [
    "# load phonon properties\n",
    "phonon_properties = pickle.load(open(\"./IPR_dictionary_perfect.p\",\"rb\"))\n",
    "# 96-atom supercell with an additional iodine interstitial defect\n",
    "num_atoms = 12\n",
    "num_modes = num_atoms*3\n",
    "\n",
    "# list IPR and frequency data across all modes\n",
    "frequency = []\n",
    "IPR = []\n",
    "for mode in phonon_properties:\n",
    "    frequency.append(phonon_properties[mode]['freq'])\n",
    "    IPR.append(1/phonon_properties[mode]['IPR-distance'])\n",
    "\n",
    "# plot\n",
    "plt.scatter(IPR,frequency,marker=\"x\")\n",
    "plt.ylabel(\"Frequency [THz]\")\n",
    "plt.xlabel(\"IPR\")"
   ]
  },
  {
   "cell_type": "markdown",
   "metadata": {},
   "source": [
    "This is a 12 atom cell; a completely delocalised mode has an IPR of 1/12=0.08, which is the case for the acoustic modes at gamma point, as would be expected. The most localised mode has an IPR of 0.58. This mode is one of the higher energy modes associated with vibrations of the organic cation. The vibrations of the inorganic cage (0-10THz range) are more delocalised with a maximum IPR of 0.18. To compare these numbers with the 97 defective sytem we need to scale by system size, and multiply by $\\frac{12}{97}$."
   ]
  },
  {
   "cell_type": "markdown",
   "metadata": {},
   "source": [
    "### 2. Identifying localised modes\n",
    "\n",
    "Now lets look at the phonon modes in the defective system."
   ]
  },
  {
   "cell_type": "code",
   "execution_count": 43,
   "metadata": {},
   "outputs": [
    {
     "data": {
      "text/plain": [
       "96.99662368714507"
      ]
     },
     "execution_count": 43,
     "metadata": {},
     "output_type": "execute_result"
    }
   ],
   "source": [
    "phonon_properties[1]['IPR-distance']"
   ]
  },
  {
   "cell_type": "code",
   "execution_count": 62,
   "metadata": {},
   "outputs": [
    {
     "data": {
      "text/plain": [
       "Text(0.5, 0, 'IPR')"
      ]
     },
     "execution_count": 62,
     "metadata": {},
     "output_type": "execute_result"
    },
    {
     "data": {
      "image/png": "[encoded data removed]",
      "text/plain": [
       "<Figure size 432x288 with 1 Axes>"
      ]
     },
     "metadata": {
      "needs_background": "light"
     },
     "output_type": "display_data"
    }
   ],
   "source": [
    "# load phonon properties\n",
    "phonon_properties = pickle.load(open(\"./IPR_dictionary_interstitial.p\",\"rb\"))\n",
    "# 96-atom supercell with an additional iodine interstitial defect\n",
    "num_atoms = 97\n",
    "num_modes = num_atoms*3\n",
    "\n",
    "# list IPR and frequency data across all modes\n",
    "frequency = []\n",
    "IPR = []\n",
    "for mode in phonon_properties:\n",
    "    frequency.append(phonon_properties[mode]['freq'])\n",
    "    IPR.append(1/phonon_properties[mode]['IPR-distance'])\n",
    "\n",
    "# plot\n",
    "plt.scatter(IPR,frequency,marker=\"x\")\n",
    "plt.ylabel(\"Frequency [THz]\")\n",
    "plt.xlabel(\"IPR\")"
   ]
  },
  {
   "cell_type": "markdown",
   "metadata": {},
   "source": [
    "There are a number of localised phonon modes. We can filter for the more localised modes. We define a localised (or resonant) mode as a mode with IPR>0.03, as the maximum IPR for the inorganic modes in the perfect material was 0.0223."
   ]
  },
  {
   "cell_type": "code",
   "execution_count": 75,
   "metadata": {},
   "outputs": [
    {
     "name": "stdout",
     "output_type": "stream",
     "text": [
      "frequency       IPR\n",
      "64 1.5902196857    0.04668542116971956\n",
      "66 1.7106084414    0.03681083231706605\n",
      "75 1.9577188429    0.04131807997219083\n",
      "92 2.4166029138    0.031447041477347636\n",
      "98 2.5894861988    0.03670796085142505\n",
      "105 2.7847191527    0.031507061691639124\n",
      "107 2.8104776416    0.03730104283201679\n",
      "115 3.0731670659    0.03716460623691782\n",
      "116 3.0938448175    0.03646227739931094\n",
      "118 3.1639162138    0.03528774990373416\n",
      "121 3.2439361402    0.03203618151576249\n",
      "123 3.2945608541    0.03985309511411406\n",
      "126 3.3565617089    0.032813764858816055\n",
      "130 3.5447143248    0.05898332781127169\n",
      "132 3.7160298999    0.05797399971701435\n",
      "133 3.7366079524    0.03147981384975289\n",
      "134 3.8017893412    0.032774686478134134\n",
      "135 3.9834887771    0.03296427302307534\n",
      "136 4.0432149522    0.07870258760084414\n",
      "137 4.1521589486    0.05055597663908097\n",
      "138 4.1806764656    0.06068219852264479\n",
      "139 4.2517677171    0.03808220989568805\n",
      "140 4.5317593008    0.08250437227903427\n",
      "141 4.5896585047    0.06719807089631175\n",
      "142 4.6693388818    0.06271257423915087\n",
      "143 4.8380261881    0.034796805593389504\n",
      "144 5.1314935199    0.059898685669842355\n",
      "145 5.294753777    0.042470640490368944\n",
      "146 5.5680202666    0.055639573147069986\n",
      "147 5.7117212604    0.039619623233785706\n",
      "148 8.9563628429    0.07540482034551402\n",
      "149 9.0671163232    0.07213044744659168\n",
      "150 9.1476498446    0.08088423921057071\n",
      "151 9.3037552164    0.0778922702869463\n",
      "152 10.2613174395    0.08474208068283558\n",
      "153 10.3392975894    0.07981363792449503\n",
      "154 10.362851292    0.07699609736697333\n",
      "155 10.3680566862    0.07114173404322874\n",
      "156 26.3624919508    0.058557590190798724\n",
      "157 26.4043261632    0.06288984099724859\n",
      "158 26.4795682934    0.06116286363892252\n",
      "159 26.5192004307    0.07292962961137862\n",
      "160 26.6719402912    0.07376431837828684\n",
      "161 26.7607841732    0.06736834564997049\n",
      "162 26.852848126    0.044558349494386126\n",
      "163 26.8817716295    0.05150692058087784\n",
      "164 26.9032387036    0.05780508432763901\n",
      "165 26.9224805673    0.03670569426802685\n",
      "167 26.9582054949    0.034258546471691444\n",
      "168 27.1238383268    0.07251762327712073\n",
      "169 27.2045989021    0.07409869253022476\n",
      "170 27.4505627587    0.07253462026727803\n",
      "171 27.486687294    0.06909630893780037\n",
      "172 30.1197554154    0.051256233991239526\n",
      "173 30.1234618196    0.04789242812426351\n",
      "178 30.251259486    0.05493177477072406\n",
      "179 30.2718226932    0.05381478562837695\n",
      "180 36.5560423567    0.033786141944640684\n",
      "181 36.6012560556    0.03813486895208434\n",
      "182 36.6144758208    0.03348302855940834\n",
      "183 36.6677219499    0.03416965236652791\n",
      "184 36.7586019296    0.03674250314645472\n",
      "185 36.7724804766    0.03752820117584759\n",
      "186 36.7740517958    0.05044095939868368\n",
      "187 36.8397738074    0.04498441953712477\n",
      "188 36.8703186962    0.05497217078859893\n",
      "189 36.9189195251    0.03106684556165878\n",
      "190 36.9306332688    0.05419612576955824\n",
      "191 36.9514996847    0.053080945374295016\n",
      "192 36.9650057352    0.03491936786707775\n",
      "194 37.1655369557    0.06061072474210985\n",
      "195 37.2214592151    0.061034168287475155\n",
      "196 41.2940241873    0.08624035030747983\n",
      "197 41.3129652448    0.08337408577569086\n",
      "198 41.3553878625    0.04955412981487735\n",
      "199 41.3670435578    0.07937198706706643\n",
      "200 41.3714075831    0.05342221376177055\n",
      "201 41.3950564062    0.045412452787134044\n",
      "202 41.4003388218    0.04767191212832533\n",
      "203 41.4264487171    0.03991875134557517\n",
      "204 42.1114006132    0.11625772340764946\n",
      "205 42.1564968847    0.0724039430662724\n",
      "206 42.2707253517    0.10074667097092675\n",
      "207 42.3070640248    0.09974858136138416\n",
      "208 42.3174706944    0.06163263211256498\n",
      "209 42.348336032    0.08690229790150357\n",
      "210 42.4015554971    0.06756044319148767\n",
      "211 42.4234093927    0.05908100033114271\n",
      "212 42.4615136191    0.09138758112165704\n",
      "213 42.4709464989    0.08964654916156167\n",
      "214 42.4846818945    0.06060486983043317\n",
      "215 42.5401567024    0.05672756656924117\n",
      "216 42.5864393936    0.08267593318574672\n",
      "217 42.6238868485    0.08233338806404332\n",
      "218 42.6568625128    0.08729639028844483\n",
      "219 42.6831968129    0.08207090185162694\n",
      "220 42.7733436851    0.07179978610240549\n",
      "221 42.8088893628    0.07340258597284205\n",
      "222 43.1509854812    0.08464508810044227\n",
      "223 43.213068565    0.08562846107169463\n",
      "224 43.4159006226    0.11965791049767759\n",
      "225 43.5619673035    0.11911037706650086\n",
      "226 43.7452949638    0.10367814174401892\n",
      "227 43.811287802    0.10683334316370317\n",
      "228 45.8043899342    0.11082618765982226\n",
      "229 45.8675581282    0.09878027677270569\n",
      "230 45.9500603218    0.08649569271580397\n",
      "231 45.9953070809    0.10251504625773901\n",
      "232 46.0407970938    0.07863041711828501\n",
      "233 46.1461370187    0.0659307518929405\n",
      "234 46.1874609611    0.07454935339141054\n",
      "235 46.22105606    0.05537817727371535\n",
      "236 46.2671404644    0.04719220401167293\n",
      "237 46.2960302975    0.050535951283255866\n",
      "238 46.3224902705    0.04493132638924813\n",
      "239 46.355279975    0.05503593527695099\n",
      "240 46.6168942858    0.11091315565519254\n",
      "241 46.6474915885    0.09635150783406228\n",
      "242 46.826230235    0.12909536339982586\n",
      "243 46.8675869761    0.1240860629939569\n",
      "244 88.4955325201    0.13676318638487311\n",
      "245 88.6247935116    0.09187034509020038\n",
      "246 88.8176382025    0.11719160876997804\n",
      "247 88.8223966012    0.11759958419681879\n",
      "248 88.8703542564    0.09711861331653045\n",
      "249 88.8975121584    0.08052528427911443\n",
      "250 88.9046355898    0.09442768180682135\n",
      "251 88.9584472892    0.06659450202362306\n",
      "252 89.2332243269    0.18966731719836788\n",
      "253 89.2354431062    0.19196444964262277\n",
      "254 89.9246362739    0.19745813063437267\n",
      "255 90.0146113366    0.1796010923365784\n",
      "256 91.594404564    0.13251864298722935\n",
      "257 91.6357584732    0.1396700777593736\n",
      "258 91.7743619074    0.07148060007758038\n",
      "259 91.7836934529    0.10424320487161612\n",
      "260 91.7892987325    0.11344944029151882\n",
      "261 91.7942724943    0.07454003085270405\n",
      "262 91.8827593358    0.13979206725316434\n",
      "263 91.8927780046    0.13676028389387793\n",
      "264 92.1086500841    0.10718661141253205\n",
      "265 92.1385273497    0.12807413279623084\n",
      "266 92.1570179418    0.12816904556909575\n",
      "267 92.1665193735    0.12610160301823128\n",
      "268 92.2904349156    0.2358728516489806\n",
      "269 92.2986390767    0.23713997894320527\n",
      "270 92.3569022499    0.07139590779164288\n",
      "271 92.3846992386    0.08733272270037103\n",
      "272 92.3872111138    0.10702739203966764\n",
      "273 92.8457367172    0.09666920199995122\n",
      "274 92.8986546135    0.08852958952610546\n",
      "275 92.9064155323    0.057932956217796025\n",
      "276 92.9485268557    0.05785971233792523\n",
      "277 92.9574984324    0.07197064800691441\n",
      "278 92.9988285808    0.060294121542888865\n",
      "279 93.1258121311    0.09021773566094764\n",
      "280 93.6418325984    0.09993731773195476\n",
      "281 93.9356553518    0.09215166457576711\n",
      "282 93.9752606774    0.1282941052904311\n",
      "283 94.2162506178    0.16312141426400822\n",
      "284 94.3254941366    0.10772407089127768\n",
      "285 94.6529694309    0.1653884695682076\n",
      "286 94.708933286    0.12733683994692427\n",
      "287 94.8229869221    0.2539237512611323\n",
      "288 94.9149154124    0.1260688983674302\n",
      "289 95.1099586687    0.18885719613634544\n",
      "290 96.4142966229    0.30432112150663193\n"
     ]
    }
   ],
   "source": [
    "print (\"frequency      \", \"IPR\")\n",
    "for i in range(1,num_modes):\n",
    "    if (1/phonon_properties[i]['IPR-distance'])>0.03:\n",
    "        print(i, phonon_properties[i]['freq'],\"  \",(1/phonon_properties[i]['IPR-distance']))"
   ]
  },
  {
   "cell_type": "markdown",
   "metadata": {},
   "source": [
    "In general, the more localised modes are higher in energy. These modes are likely to be associated with the movement of the lighter organic atoms. The localised mode with the lowest frequency (and energy) is at 1.59THz. \n",
    "\n",
    "### 2. Properties of the localised mode at 1.59THz\n",
    "\n",
    "This frequency is equal to that of the harmonic potential energy surface (PES) calculated for the negatively charged iodine interstitial (see the literature listed above for more details). This makes sense; the harmonic PES is valid for small displacements around equilibrium, which is the space we are sampling in the harmonic phonon calculation. The agreement between the harmonic phonon calculation and the harmonic PES indicates that the phonon mode at 1.59THz has strong accepting character - it will uptake the excess electronic energy after carrier capture, leading to a displacement of the iodine ions and the surrounding lattice.\n",
    "\n",
    "An animation of the phonon mode at 1.59THz, generated using the [ascii-phonons](https://github.com/ajjackson/ascii-phonons) package, is available at https://bit.ly/MAPI_phonon.\n",
    "\n",
    "To verify that this mode is localised around the iodine interstitial (atom index 95) and the lattice iodine it forms a dimer with (atom index 96), a filter can be used to locate those where atom numbers 95 and 96 make a contribution to the phonon energy (where `efrac`>0.03)."
   ]
  },
  {
   "cell_type": "code",
   "execution_count": 70,
   "metadata": {},
   "outputs": [
    {
     "name": "stdout",
     "output_type": "stream",
     "text": [
      "frequency       IPR                 efrac\n",
      "64 1.5902196857    0.04668542116971956   0.053566709865937284\n",
      "64 1.5902196857    0.04668542116971956   0.05346389356289189\n",
      "66 1.7106084414    0.03681083231706605   0.05162546812315868\n",
      "66 1.7106084414    0.03681083231706605   0.04907367819990428\n",
      "142 4.6693388818    0.06271257423915087   0.03926431983521863\n",
      "142 4.6693388818    0.06271257423915087   0.03958798369850175\n",
      "143 4.8380261881    0.034796805593389504   0.03185182743905141\n",
      "143 4.8380261881    0.034796805593389504   0.03145140046181075\n",
      "146 5.5680202666    0.055639573147069986   0.03967906561694908\n",
      "146 5.5680202666    0.055639573147069986   0.039322696011781226\n",
      "147 5.7117212604    0.039619623233785706   0.03223705296578235\n",
      "147 5.7117212604    0.039619623233785706   0.03247747273429075\n"
     ]
    }
   ],
   "source": [
    "print (\"frequency      \", \"IPR                \",\"efrac\")\n",
    "for i,j in itertools.product(range(1,num_modes),range(1,num_atoms)):\n",
    "    if phonon_properties[i][j]['efrac']>0.03 and (j==95 or j==96) and (1/phonon_properties[i]['IPR-distance'])>0.03:\n",
    "        print (i, phonon_properties[i]['freq'],\"  \",(1/phonon_properties[i]['IPR-distance']), \" \",phonon_properties[i][j]['efrac']) "
   ]
  },
  {
   "cell_type": "markdown",
   "metadata": {},
   "source": [
    "Ok, so it seems that 11% (5.4%+5.3%) of 1.59THz mode energy can be attributed to the displacement of the two bonding iodines; a significant amount of energy (89%) is distributed amongst the other atoms. This might be expected as the MAPI lattice is soft, and we can see from the equilibrium geometry of the two charge states that there is a large distortion of the surrounding lattice after charge capture.\n",
    "\n",
    "The 1.59THz mode is at index 64. We can find which atoms contribute the most energy (more than 3% of the total phonon energy) to this phonon mode and then, using [vesta](https://jp-minerals.org/vesta/en/), see if it is localised around the iodine dimer as we would expect."
   ]
  },
  {
   "cell_type": "code",
   "execution_count": 23,
   "metadata": {},
   "outputs": [
    {
     "name": "stdout",
     "output_type": "stream",
     "text": [
      "2 0.06440239147774258\n",
      "4 0.06168246449883173\n",
      "26 0.03264137712248505\n",
      "28 0.031979777950358314\n",
      "34 0.03338512132720793\n",
      "36 0.031326106363531926\n",
      "72 0.062681916758608\n",
      "82 0.043887046008908755\n",
      "84 0.04350373149048876\n",
      "95 0.053566709865937284\n",
      "96 0.05346389356289189\n",
      "0.5125205364269922\n"
     ]
    }
   ],
   "source": [
    "efrac=0\n",
    "mode_index=64\n",
    "for i in range(1, num_atoms):\n",
    "    if phonon_properties[mode_index][i]['efrac']>0.03:\n",
    "        print(i,phonon_properties[mode_index][i]['efrac'])\n",
    "        efrac+=phonon_properties[mode_index][i]['efrac']\n",
    "print(efrac)"
   ]
  },
  {
   "cell_type": "markdown",
   "metadata": {},
   "source": [
    "The atoms that each contribute more than 3% of the total phonon energy are highlighted below. Taken together, they account for more than half of the phonon energy.\n",
    "\n",
    "![](./localised_mode.png)\n",
    "\n",
    " The phonon mode is localised around the bonding iodine, two of the four nearest neighbour iodines and one out of two nearest neighbour lead. The atoms lie in the ab-plane."
   ]
  },
  {
   "cell_type": "markdown",
   "metadata": {},
   "source": [
    "### 3. Properties of other phonon modes associated with the bonding iodine\n",
    "\n",
    "Lets find the other modes which have a large energy contribution from the bonding iodine."
   ]
  },
  {
   "cell_type": "code",
   "execution_count": 72,
   "metadata": {},
   "outputs": [
    {
     "name": "stdout",
     "output_type": "stream",
     "text": [
      "atom 95\n",
      "frequency       IPR                 efrac\n",
      "0.4853395636    0.01522017719480159   0.03675300577056754\n",
      "0.7576482515    0.01491503190818238   0.047958440009165625\n",
      "0.7602759388    0.015463747668050996   0.03183381908920497\n",
      "0.9369803302    0.013062354596501022   0.03009136937590943\n",
      "1.0300737444    0.015155329761863588   0.04581924898147083\n",
      "1.075632191    0.013256983833393656   0.03341512294703494\n",
      "1.2445419727    0.013129539839760616   0.05407767127403516\n",
      "1.4370538726    0.02260348822218216   0.0328035318183344\n",
      "1.4392976571    0.01528150313927033   0.039567946124657895\n",
      "1.5902196857    0.04668542116971956   0.053566709865937284\n",
      "1.7106084414    0.03681083231706605   0.05162546812315868\n",
      "1.7917596692    0.027337796145331196   0.04692933234352594\n",
      "2.1002269022    0.012765173741780053   0.053834439129200565\n",
      "2.1211270664    0.01581436119487089   0.0456179311308295\n",
      "2.1340672112    0.015269400263817304   0.04837620850503517\n",
      "2.164762451    0.0279241784062521   0.03091884947149302\n",
      "2.2655739058    0.023871455803014016   0.030996186438021316\n",
      "2.6052926809    0.015513760852042912   0.03935970787505701\n",
      "2.6634703325    0.018200411277202004   0.04934485486140805\n",
      "2.7097767484    0.017168444410064397   0.04116293031767418\n",
      "2.8001131432    0.02342092473794172   0.033628103406314266\n",
      "4.6693388818    0.06271257423915087   0.03926431983521863\n",
      "4.8380261881    0.034796805593389504   0.03185182743905141\n",
      "5.5680202666    0.055639573147069986   0.03967906561694908\n",
      "5.7117212604    0.039619623233785706   0.03223705296578235\n",
      "--\n",
      "atom 96\n",
      "frequency       IPR                 efrac\n",
      "0.4853395636    0.01522017719480159   0.03689535178648601\n",
      "0.7576482515    0.01491503190818238   0.04797892064754616\n",
      "0.7602759388    0.015463747668050996   0.03208512872443377\n",
      "1.0300737444    0.015155329761863588   0.04540552702169901\n",
      "1.075632191    0.013256983833393656   0.032995146423720395\n",
      "1.2445419727    0.013129539839760616   0.05403453247239753\n",
      "1.4370538726    0.02260348822218216   0.0336188334278961\n",
      "1.4392976571    0.01528150313927033   0.03952877640862844\n",
      "1.5902196857    0.04668542116971956   0.05346389356289189\n",
      "1.7106084414    0.03681083231706605   0.04907367819990428\n",
      "1.7917596692    0.027337796145331196   0.05109936059885246\n",
      "2.1002269022    0.012765173741780053   0.05399791237458211\n",
      "2.1211270664    0.01581436119487089   0.03431365332911191\n",
      "2.1223012199    0.021895164869097577   0.04034794414531197\n",
      "2.1340672112    0.015269400263817304   0.044560772947169244\n",
      "2.164762451    0.0279241784062521   0.03226907802482465\n",
      "2.2655739058    0.023871455803014016   0.030400589031491107\n",
      "2.6052926809    0.015513760852042912   0.038734306297991454\n",
      "2.6634703325    0.018200411277202004   0.05006890382195754\n",
      "2.7097767484    0.017168444410064397   0.03936010375848702\n",
      "4.6693388818    0.06271257423915087   0.03958798369850175\n",
      "4.8380261881    0.034796805593389504   0.03145140046181075\n",
      "5.5680202666    0.055639573147069986   0.039322696011781226\n",
      "5.7117212604    0.039619623233785706   0.03247747273429075\n"
     ]
    }
   ],
   "source": [
    "print(\"atom 95\")\n",
    "print (\"frequency      \", \"IPR                \",\"efrac\")\n",
    "for i in range(1,num_modes):\n",
    "    if phonon_properties[i][95]['efrac'] > 0.03:\n",
    "        print(phonon_properties[i]['freq'],\"  \",(1/phonon_properties[i]['IPR-distance']), \" \",phonon_properties[i][95]['efrac'])\n",
    "print(\"--\")\n",
    "print(\"atom 96\")\n",
    "print (\"frequency      \", \"IPR                \",\"efrac\")\n",
    "for i in range(1,num_modes):\n",
    "    if phonon_properties[i][96]['efrac'] > 0.03:\n",
    "        print(phonon_properties[i]['freq'],\"  \",(1/phonon_properties[i]['IPR-distance']), \" \",phonon_properties[i][96]['efrac'])\n"
   ]
  },
  {
   "cell_type": "markdown",
   "metadata": {},
   "source": [
    "An 11%% contribution from the bonding iodine is an upper limit for this system. There isn't another localised mode with a contribution of more than 10% from the bonding iodine."
   ]
  },
  {
   "cell_type": "code",
   "execution_count": null,
   "metadata": {},
   "outputs": [],
   "source": []
  }
 ],
 "metadata": {
  "kernelspec": {
   "display_name": "Python 3",
   "language": "python",
   "name": "python3"
  },
  "language_info": {
   "codemirror_mode": {
    "name": "ipython",
    "version": 3
   },
   "file_extension": ".py",
   "mimetype": "text/x-python",
   "name": "python",
   "nbconvert_exporter": "python",
   "pygments_lexer": "ipython3",
   "version": "3.7.9"
  }
 },
 "nbformat": 4,
 "nbformat_minor": 1
}
