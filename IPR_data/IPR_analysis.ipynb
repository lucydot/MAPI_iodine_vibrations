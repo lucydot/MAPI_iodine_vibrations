{
 "cells": [
  {
   "cell_type": "code",
   "execution_count": 2,
   "metadata": {},
   "outputs": [],
   "source": [
    "import pickle\n",
    "import matplotlib.pyplot as plt\n",
    "import itertools\n",
    "%matplotlib inline"
   ]
  },
  {
   "cell_type": "markdown",
   "metadata": {},
   "source": [
    "## Introduction\n",
    "\n",
    "- This notebook contains steps to analyse the harmonic phonon properties of the hybrid halide perovskite MAPI with a negatively charged iodine interstitial defect\n",
    "- `IPR_dictionary.p` contains various properties (including inverse participation ratio) of each gamma-point harmonic phonon mode in a 222 supercell (96-atom) of MAPI with a negative iodine interstitial.\n",
    "- The defect structure is included in this folder as `POSCAR.vasp`\n",
    "\n",
    "### Associated literature\n",
    "\n",
    "Further details (including structural relaxation and phonon calculation details) can be found in:\n",
    "   - L. D. Whalley et al., 2020. *[Giant Huang-Rhys factor for electron capture at the iodine interstitial in MAPI]()*\n",
    "   - L.D. Whalley, 2019. PhD thesis, *[Defects and Distortions in Hybrid Halide Perovskites](https://doi.org/10.25560/79304)* (Chapter 6)\n",
    "\n",
    "### Inverse Participation Ratio\n",
    "\n",
    "To identify which phonon modes are associated with the iodine interstitial defect we use the Inverse Participation Ratio (IPR) to quantify localisation.\n",
    "\n",
    "The IPR is calculated from the harmonic phonon eigenvectors $e_i$ of the system and is given by\n",
    "\\begin{equation}\n",
    "\\mathrm{IPR} = \\frac{\\left(\\sum_{i=1}^N|e_i|\\right)^2}{\\sum_{i=1}^N\\left(|e_i|\\right)^2},\n",
    "\\end{equation}\n",
    "where N is the number of phonon modes. This provides a measure of how many atoms the phonon is distributed over. For example, for a chain of four atoms, a delocalised acoustic mode will have an $\\textrm{IPR}=4$. At the other extreme, a phonon mode whose polarisation displaces only one atom will have an $\\textrm{IPR}=1$.\n",
    "\n",
    "The Inverse Participation Ratio (IPR) can be calculated using the [juliaphonons package](https://github.com/jarvist/Julia-Phonons). The harmonic phonon eigenfunctions and frequencies can be calculated using [phonopy](https://phonopy.github.io/phonopy/) to pre- and post-process forces calculated using e.g. Density Function Theory, Molecular Dynamics.\n",
    "\n",
    "## IPR Analysis\n",
    "\n",
    "### 1. Identifying localised modes"
   ]
  },
  {
   "cell_type": "code",
   "execution_count": 8,
   "metadata": {},
   "outputs": [
    {
     "data": {
      "text/plain": [
       "Text(0.5, 0, 'IPR')"
      ]
     },
     "execution_count": 8,
     "metadata": {},
     "output_type": "execute_result"
    },
    {
     "data": {
      "image/png": "[encoded data removed]",
      "text/plain": [
       "<Figure size 432x288 with 1 Axes>"
      ]
     },
     "metadata": {
      "needs_background": "light"
     },
     "output_type": "display_data"
    }
   ],
   "source": [
    "# load phonon properties\n",
    "phonon_properties = pickle.load(open(\"./IPR_dictionary.p\",\"rb\"))\n",
    "# 96-atom supercell with an additional iodine interstitial defect\n",
    "num_atoms = 97\n",
    "num_modes = num_atoms*3\n",
    "\n",
    "# list IPR and frequency data across all modes\n",
    "frequency = []\n",
    "IPR = []\n",
    "for mode in phonon_properties:\n",
    "    frequency.append(phonon_properties[mode]['freq'])\n",
    "    IPR.append(phonon_properties[mode]['IPR-distance'])\n",
    "\n",
    "# plot\n",
    "plt.scatter(IPR,frequency)\n",
    "plt.ylabel(\"Frequency [THz]\")\n",
    "plt.xlabel(\"IPR\")"
   ]
  },
  {
   "cell_type": "markdown",
   "metadata": {},
   "source": [
    "There are a number of localised phonon modes. We can filter for the most highly localised ones (where `IPR-distance`<25):"
   ]
  },
  {
   "cell_type": "code",
   "execution_count": 9,
   "metadata": {},
   "outputs": [
    {
     "name": "stdout",
     "output_type": "stream",
     "text": [
      "frequency       IPR\n",
      "64 1.5902196857    21.41996312648896\n",
      "66 1.7106084414    27.165916580929498\n",
      "75 1.9577188429    24.202479899188223\n",
      "98 2.5894861988    27.24204714196699\n",
      "107 2.8104776416    26.808901952244216\n",
      "115 3.0731670659    26.907321272965362\n",
      "116 3.0938448175    27.425604524058002\n",
      "118 3.1639162138    28.3384461386182\n",
      "123 3.2945608541    25.092154000501907\n",
      "130 3.5447143248    16.95394337870676\n",
      "132 3.7160298999    17.249111754946203\n",
      "136 4.0432149522    12.706062538524137\n",
      "137 4.1521589486    19.78005502967529\n",
      "138 4.1806764656    16.479297460305922\n",
      "139 4.2517677171    26.258980314932497\n",
      "140 4.5317593008    12.120569763478057\n",
      "141 4.5896585047    14.881379579229652\n",
      "142 4.6693388818    15.945765456646003\n",
      "143 4.8380261881    28.738270164373198\n",
      "144 5.1314935199    16.694857137799897\n",
      "145 5.294753777    23.54567740099822\n",
      "146 5.5680202666    17.972819406014093\n",
      "147 5.7117212604    25.240017909792947\n",
      "148 8.9563628429    13.261751641577805\n",
      "149 9.0671163232    13.863770923373805\n",
      "150 9.1476498446    12.363348036156228\n",
      "151 9.3037552164    12.838244363864519\n",
      "152 10.2613174395    11.800512707998083\n",
      "153 10.3392975894    12.529187066325882\n",
      "154 10.362851292    12.987671248243545\n",
      "155 10.3680566862    14.05644680227161\n",
      "156 26.3624919508    17.077205478259796\n",
      "157 26.4043261632    15.900819339704638\n",
      "158 26.4795682934    16.34979038757147\n",
      "159 26.5192004307    13.71184805584119\n",
      "160 26.6719402912    13.556690036389716\n",
      "161 26.7607841732    14.843766614008251\n",
      "162 26.852848126    22.442482976753645\n",
      "163 26.8817716295    19.414866754260093\n",
      "164 26.9032387036    17.299516325103923\n",
      "165 26.9224805673    27.24372934340784\n",
      "167 26.9582054949    29.189796503080508\n",
      "168 27.1238383268    13.78975143984758\n",
      "169 27.2045989021    13.495514777026616\n",
      "170 27.4505627587    13.78652009640591\n",
      "171 27.486687294    14.472553098316546\n",
      "172 30.1197554154    19.509821969575746\n",
      "173 30.1234618196    20.880127384758236\n",
      "178 30.251259486    18.204399988418924\n",
      "179 30.2718226932    18.58225371193697\n",
      "180 36.5560423567    29.597934017992387\n",
      "181 36.6012560556    26.222720242109105\n",
      "182 36.6144758208    29.865876625398982\n",
      "183 36.6677219499    29.265735257511295\n",
      "184 36.7586019296    27.216436398304833\n",
      "185 36.7724804766    26.646627567206185\n",
      "186 36.7740517958    19.82515820319818\n",
      "187 36.8397738074    22.229918942817953\n",
      "188 36.8703186962    18.191022578417027\n",
      "190 36.9306332688    18.451503420225958\n",
      "191 36.9514996847    18.839152033721316\n",
      "192 36.9650057352    28.63740271033966\n",
      "194 37.1655369557    16.498730286675503\n",
      "195 37.2214592151    16.384265208463738\n",
      "196 41.2940241873    11.595500208830526\n",
      "197 41.3129652448    11.99413451669376\n",
      "198 41.3553878625    20.179952785686407\n",
      "199 41.3670435578    12.598903428674863\n",
      "200 41.3714075831    18.718804961160362\n",
      "201 41.3950564062    22.020391734562143\n",
      "202 41.4003388218    20.976712604020506\n",
      "203 41.4264487171    25.05088376495138\n",
      "204 42.1114006132    8.60157906665324\n",
      "205 42.1564968847    13.811402496196722\n",
      "206 42.2707253517    9.925886288476745\n",
      "207 42.3070640248    10.025205234519072\n",
      "208 42.3174706944    16.22517107777604\n",
      "209 42.348336032    11.507175577030376\n",
      "210 42.4015554971    14.801560687896668\n",
      "211 42.4234093927    16.925915174000213\n",
      "212 42.4615136191    10.94240582501882\n",
      "213 42.4709464989    11.154919061053791\n",
      "214 42.4846818945    16.50032419503429\n",
      "215 42.5401567024    17.628113816223877\n",
      "216 42.5864393936    12.095418357762176\n",
      "217 42.6238868485    12.145740914028055\n",
      "218 42.6568625128    11.455227377624652\n",
      "219 42.6831968129    12.184586466563562\n",
      "220 42.7733436851    13.927618093092024\n",
      "221 42.8088893628    13.623498228931421\n",
      "222 43.1509854812    11.81403460545013\n",
      "223 43.213068565    11.67836006258158\n",
      "224 43.4159006226    8.357157465317838\n",
      "225 43.5619673035    8.395574127363286\n",
      "226 43.7452949638    9.645234599873497\n",
      "227 43.811287802    9.360373553673005\n",
      "228 45.8043899342    9.0231381329246\n",
      "229 45.8675581282    10.123478417670453\n",
      "230 45.9500603218    11.561269337256675\n",
      "231 45.9953070809    9.754665646697775\n",
      "232 46.0407970938    12.717724725988464\n",
      "233 46.1461370187    15.167429026500676\n",
      "234 46.1874609611    13.413932576311499\n",
      "235 46.22105606    18.057654643585373\n",
      "236 46.2671404644    21.189940604440753\n",
      "237 46.2960302975    19.787893066363058\n",
      "238 46.3224902705    22.25618694931952\n",
      "239 46.355279975    18.169946508000915\n",
      "240 46.6168942858    9.016063009773212\n",
      "241 46.6474915885    10.378664771102617\n",
      "242 46.826230235    7.746211588582499\n",
      "243 46.8675869761    8.058922782075058\n",
      "244 88.4955325201    7.3119091945243415\n",
      "245 88.6247935116    10.884905232675216\n",
      "246 88.8176382025    8.533034152323868\n",
      "247 88.8223966012    8.503431426478217\n",
      "248 88.8703542564    10.296687378976314\n",
      "249 88.8975121584    12.418459729168154\n",
      "250 88.9046355898    10.590114899207038\n",
      "251 88.9584472892    15.016254639839039\n",
      "252 89.2332243269    5.2723896492621725\n",
      "253 89.2354431062    5.209297877089662\n",
      "254 89.9246362739    5.0643647683045785\n",
      "255 90.0146113366    5.567894866284927\n",
      "256 91.594404564    7.546108060406027\n",
      "257 91.6357584732    7.159729671825772\n",
      "258 91.7743619074    13.989809807341645\n",
      "259 91.7836934529    9.5929514180956\n",
      "260 91.7892987325    8.814499193917639\n",
      "261 91.7942724943    13.415610223935445\n",
      "262 91.8827593358    7.1534817364778895\n",
      "263 91.8927780046    7.31206437664294\n",
      "264 92.1086500841    9.329523406158186\n",
      "265 92.1385273497    7.807977912222331\n",
      "266 92.1570179418    7.802195885596272\n",
      "267 92.1665193735    7.930113305977751\n",
      "268 92.2904349156    4.239572265349859\n",
      "269 92.2986390767    4.216918650564184\n",
      "270 92.3569022499    14.006405001787135\n",
      "271 92.3846992386    11.450461740794342\n",
      "272 92.3872111138    9.343402478025151\n",
      "273 92.8457367172    10.344556273470683\n",
      "274 92.8986546135    11.295658382162967\n",
      "275 92.9064155323    17.261332155061282\n",
      "276 92.9485268557    17.283183057661546\n",
      "277 92.9574984324    13.894553233756174\n",
      "278 92.9988285808    16.58536478201565\n",
      "279 93.1258121311    11.084295041034464\n",
      "280 93.6418325984    10.006272158335625\n",
      "281 93.9356553518    10.851675925808154\n",
      "282 93.9752606774    7.79459038851558\n",
      "283 94.2162506178    6.130402954829236\n",
      "284 94.3254941366    9.282976327633094\n",
      "285 94.6529694309    6.046370721071287\n",
      "286 94.708933286    7.853186873624425\n",
      "287 94.8229869221    3.938190086722574\n",
      "288 94.9149154124    7.932170526988195\n",
      "289 95.1099586687    5.295006070502339\n",
      "290 96.4142966229    3.2860026114822514\n"
     ]
    }
   ],
   "source": [
    "print (\"frequency      \", \"IPR\")\n",
    "for i in range(1,num_modes):\n",
    "    if phonon_properties[i]['IPR-distance']<30:\n",
    "        print(i, phonon_properties[i]['freq'],\"  \",phonon_properties[i]['IPR-distance'])"
   ]
  },
  {
   "cell_type": "markdown",
   "metadata": {},
   "source": [
    "The localised mode with the lowest frequency (and energy) is at 1.59THz. \n",
    "\n",
    "### 2. Properties of the localised mode at 1.59THz\n",
    "\n",
    "This frequency is equal to that of the harmonic potential energy surface (PES) calculated for the negatively charged iodine interstitial (see the literature listed above for more details). This makes sense; the harmonic PES is valide for small displacements around equilibrium, which is the space we are sampling in the harmonic phonon calculation. The agreement between the harmonic phonon calculation and the harmonic PES justifies the use of a single configuration coordinate Q for the PES; Q is a good approximation to the accepting modes of the charge transition.  \n",
    "\n",
    "An animation of the phonon mode at 1.59THz, generated using the [ascii-phonons](https://github.com/ajjackson/ascii-phonons) package, is available at https://bit.ly/MAPI_phonon.\n",
    "\n",
    "To verify that this mode is localised around the iodine interstitial (atom index 95) and the lattice iodine it forms a dimer with (atom index 96), an additional filter can be used to locate those where atom numbers 95 and 96 make a contribution to the phonon energy (where `efrac`>0.05)."
   ]
  },
  {
   "cell_type": "code",
   "execution_count": 22,
   "metadata": {},
   "outputs": [
    {
     "name": "stdout",
     "output_type": "stream",
     "text": [
      "frequency       IPR                 efrac\n",
      "64 1.5902196857    21.41996312648896   0.053566709865937284\n",
      "64 1.5902196857    21.41996312648896   0.05346389356289189\n",
      "66 1.7106084414    27.165916580929498   0.05162546812315868\n",
      "66 1.7106084414    27.165916580929498   0.04907367819990428\n",
      "142 4.6693388818    15.945765456646003   0.03926431983521863\n",
      "142 4.6693388818    15.945765456646003   0.03958798369850175\n",
      "143 4.8380261881    28.738270164373198   0.03185182743905141\n",
      "143 4.8380261881    28.738270164373198   0.03145140046181075\n",
      "146 5.5680202666    17.972819406014093   0.03967906561694908\n",
      "146 5.5680202666    17.972819406014093   0.039322696011781226\n",
      "147 5.7117212604    25.240017909792947   0.03223705296578235\n",
      "147 5.7117212604    25.240017909792947   0.03247747273429075\n"
     ]
    }
   ],
   "source": [
    "print (\"frequency      \", \"IPR                \",\"efrac\")\n",
    "for i,j in itertools.product(range(1,num_modes),range(1,num_atoms)):\n",
    "    if phonon_properties[i][j]['efrac']>0.03 and (j==95 or j==96) and phonon_properties[i]['IPR-distance']<30:\n",
    "        print (i, phonon_properties[i]['freq'],\"  \",phonon_properties[i]['IPR-distance'], \" \",phonon_properties[i][j]['efrac']) "
   ]
  },
  {
   "cell_type": "markdown",
   "metadata": {},
   "source": [
    "Ok, so it seems that 11% (5.4%+5.3%) of 1.59THz mode energy can be attributed to the displacement of the two bonding iodines; a significant amount of energy (89%) is distributed amongst the other atoms. This might be expected as the MAPI lattice is soft, and we can see from the equilibrium geometry of the two charge states that there is a large distortion of the surrounding lattice after charge capture.\n",
    "%\n",
    "The 1.59THz mode is at index 64. We can find which atoms contribute the most energy (more than 3% of the total phonon energy) to this phonon mode and then, using [vesta](https://jp-minerals.org/vesta/en/), see if it is localised around the iodine dimer as we would expect."
   ]
  },
  {
   "cell_type": "code",
   "execution_count": 34,
   "metadata": {},
   "outputs": [
    {
     "name": "stdout",
     "output_type": "stream",
     "text": [
      "2 0.06440239147774258\n",
      "4 0.06168246449883173\n",
      "26 0.03264137712248505\n",
      "28 0.031979777950358314\n",
      "34 0.03338512132720793\n",
      "36 0.031326106363531926\n",
      "72 0.062681916758608\n",
      "82 0.043887046008908755\n",
      "84 0.04350373149048876\n",
      "95 0.053566709865937284\n",
      "96 0.05346389356289189\n",
      "0.5125205364269922\n"
     ]
    }
   ],
   "source": [
    "efrac=0\n",
    "for i in range(1, num_atoms):\n",
    "    if phonon_properties[64][i]['efrac']>0.03:\n",
    "        print(i,phonon_properties[64][i]['efrac'])\n",
    "        efrac+=phonon_properties[64][i]['efrac']\n",
    "print(efrac)"
   ]
  },
  {
   "cell_type": "markdown",
   "metadata": {},
   "source": [
    "The atoms that each contribute more than 3% of the total phonon energy are highlighted below. Taken together, they account for more than half of the phonon energy.\n",
    "\n",
    "![](./localised_mode.png)\n",
    "\n",
    " The phonon mode is localised around the bonding iodine, two of the four nearest neighbour iodines and one out of two nearest neighbour lead. The atoms lie in the ab-plane."
   ]
  },
  {
   "cell_type": "markdown",
   "metadata": {},
   "source": [
    "### 3. Properties of other phonon modes associated with the bonding iodine\n",
    "\n",
    "Lets find the other modes which have a large energy contribution from the bonding iodine."
   ]
  },
  {
   "cell_type": "code",
   "execution_count": 29,
   "metadata": {},
   "outputs": [
    {
     "name": "stdout",
     "output_type": "stream",
     "text": [
      "atom 95\n",
      "frequency       IPR                 efrac\n",
      "1.2445419727    76.16413158454093   0.05407767127403516\n",
      "1.5902196857    21.41996312648896   0.053566709865937284\n",
      "1.7106084414    27.165916580929498   0.05162546812315868\n",
      "2.1002269022    78.33814252970394   0.053834439129200565\n",
      "--\n",
      "atom 96\n",
      "frequency       IPR                 efrac\n",
      "1.2445419727    76.16413158454093   0.05403453247239753\n",
      "1.5902196857    21.41996312648896   0.05346389356289189\n",
      "1.7917596692    36.579393404057626   0.05109936059885246\n",
      "2.1002269022    78.33814252970394   0.05399791237458211\n",
      "2.6634703325    54.94381334407585   0.05006890382195754\n"
     ]
    }
   ],
   "source": [
    "print(\"atom 95\")\n",
    "print (\"frequency      \", \"IPR                \",\"efrac\")\n",
    "for i in range(1,num_modes):\n",
    "    if phonon_properties[i][95]['efrac'] > 0.05:\n",
    "        print(phonon_properties[i]['freq'],\"  \",phonon_properties[i]['IPR-distance'], \" \",phonon_properties[i][95]['efrac'])\n",
    "print(\"--\")\n",
    "print(\"atom 96\")\n",
    "print (\"frequency      \", \"IPR                \",\"efrac\")\n",
    "for i in range(1,num_modes):\n",
    "    if phonon_properties[i][96]['efrac'] > 0.05:\n",
    "        print(phonon_properties[i]['freq'],\"  \",phonon_properties[i]['IPR-distance'], \" \",phonon_properties[i][96]['efrac'])\n"
   ]
  },
  {
   "cell_type": "markdown",
   "metadata": {},
   "source": [
    "An 11%% contribution from the bonding iodine is an upper limit for this system. There isn't another localised mode with a contribution of more than 10% from the bonding iodine."
   ]
  },
  {
   "cell_type": "code",
   "execution_count": null,
   "metadata": {},
   "outputs": [],
   "source": []
  }
 ],
 "metadata": {
  "kernelspec": {
   "display_name": "Python 3",
   "language": "python",
   "name": "python3"
  },
  "language_info": {
   "codemirror_mode": {
    "name": "ipython",
    "version": 3
   },
   "file_extension": ".py",
   "mimetype": "text/x-python",
   "name": "python",
   "nbconvert_exporter": "python",
   "pygments_lexer": "ipython3",
   "version": "3.7.3"
  }
 },
 "nbformat": 4,
 "nbformat_minor": 1
}
