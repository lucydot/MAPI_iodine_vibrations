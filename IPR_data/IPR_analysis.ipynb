{
 "cells": [
  {
   "cell_type": "code",
   "execution_count": 12,
   "metadata": {},
   "outputs": [],
   "source": [
    "import pickle\n",
    "import matplotlib.pyplot as plt\n",
    "import itertools\n",
    "%matplotlib inline"
   ]
  },
  {
   "cell_type": "markdown",
   "metadata": {},
   "source": [
    "## Introduction\n",
    "\n",
    "- This notebook contains the steps needed to analyse the vibrational properties of the hybrid halide perovskite MAPI with a negatively charged iodine interstitial defect\n",
    "- `IPR_dictionary.p` contains the properties (including inverse participation ratio) of each gamma-point harmonic phonon mode in a 222 supercell of MAPI with a negative interstitial defect.\n",
    "- The defect structure is `./POSCAR.vasp`\n",
    "- Further details (including structural relaxation and phonon calculation details) can be found in Chapter 6 of \"Defects and Distortions in Hybrid Halide Perovskites\" [here](). ##TODO: add link to thesis.\n",
    "\n",
    "### Inverse Participation Ratio\n",
    "\n",
    "To identify which modes are associated with the iodine interstitial defect the Inverse Participation Ratio (IPR) is used to quantify the localisation of each phonon mode. \n",
    "The IPR is calculated from the harmonic phonon eigenvectors $e_i$ of the system and is given by\n",
    "\\begin{equation}\n",
    "\\mathrm{IPR} = \\frac{\\left(\\sum_{i=1}^N|e_i|\\right)^2}{\\sum_{i=1}^N\\left(|e_i|\\right)^2},\n",
    "\\end{equation}\n",
    "where N is the number of phonon modes. This provides a measure of how many atoms the phonon is distributed over. For example, for a chain of four atoms, a delocalised acoustic mode will have an $\\textrm{IPR}=4$. At the other extreme, a phonon mode whose polarisation displaces only one atom will have an $\\textrm{IPR}=1$.\n",
    "\n",
    "The Inverse Participation Ratio (IPR) can be calculated using the [juliaphonons package](https://github.com/jarvist/Julia-Phonons)."
   ]
  },
  {
   "cell_type": "code",
   "execution_count": 15,
   "metadata": {},
   "outputs": [
    {
     "data": {
      "text/plain": [
       "Text(0.5, 0, 'IPR')"
      ]
     },
     "execution_count": 15,
     "metadata": {},
     "output_type": "execute_result"
    },
    {
     "data": {
      "image/png": "[encoded data removed]",
      "text/plain": [
       "<Figure size 432x288 with 1 Axes>"
      ]
     },
     "metadata": {
      "needs_background": "light"
     },
     "output_type": "display_data"
    }
   ],
   "source": [
    "# load phonon properties\n",
    "phonon_properties = pickle.load(open(\"./IPR_dictionary.p\",\"rb\"))\n",
    "# 96-atom supercell with an additional iodine interstitial defect\n",
    "num_atoms = 97\n",
    "num_modes = num_atoms*3\n",
    "\n",
    "# list IPR and frequency data across all modes\n",
    "frequency = []\n",
    "IPR = []\n",
    "for mode in phonon_properties:\n",
    "    frequency.append(phonon_properties[mode]['freq'])\n",
    "    IPR.append(phonon_properties[mode]['IPR-distance'])\n",
    "\n",
    "# plot\n",
    "plt.scatter(IPR,frequency)\n",
    "plt.ylabel(\"Frequency\")\n",
    "plt.xlabel(\"IPR\")"
   ]
  },
  {
   "cell_type": "markdown",
   "metadata": {},
   "source": [
    "There are a number of localised phonon modes. We can filter the phonon modes to find those where the iodine ions involved with dimer formation (atom index numbers 95 and 96) make a contribution to the phonon energy."
   ]
  },
  {
   "cell_type": "code",
   "execution_count": 23,
   "metadata": {},
   "outputs": [
    {
     "name": "stdout",
     "output_type": "stream",
     "text": [
      "frequency       efrac\n",
      "0.4853395636    0.03675300577056754\n",
      "0.4853395636    0.03689535178648601\n",
      "0.7576482515    0.047958440009165625\n",
      "0.7576482515    0.04797892064754616\n",
      "0.7602759388    0.03183381908920497\n",
      "0.7602759388    0.03208512872443377\n",
      "0.9369803302    0.03009136937590943\n",
      "1.0300737444    0.04581924898147083\n",
      "1.0300737444    0.04540552702169901\n",
      "1.075632191    0.03341512294703494\n",
      "1.075632191    0.032995146423720395\n",
      "1.2445419727    0.05407767127403516\n",
      "1.2445419727    0.05403453247239753\n",
      "1.4370538726    0.0328035318183344\n",
      "1.4370538726    0.0336188334278961\n",
      "1.4392976571    0.039567946124657895\n",
      "1.4392976571    0.03952877640862844\n",
      "1.5902196857    0.053566709865937284\n",
      "1.5902196857    0.05346389356289189\n",
      "1.7106084414    0.05162546812315868\n",
      "1.7106084414    0.04907367819990428\n",
      "1.7917596692    0.04692933234352594\n",
      "1.7917596692    0.05109936059885246\n",
      "2.1002269022    0.053834439129200565\n",
      "2.1002269022    0.05399791237458211\n",
      "2.1211270664    0.0456179311308295\n",
      "2.1211270664    0.03431365332911191\n",
      "2.1223012199    0.04034794414531197\n",
      "2.1340672112    0.04837620850503517\n",
      "2.1340672112    0.044560772947169244\n",
      "2.164762451    0.03091884947149302\n",
      "2.164762451    0.03226907802482465\n",
      "2.2655739058    0.030996186438021316\n",
      "2.2655739058    0.030400589031491107\n",
      "2.6052926809    0.03935970787505701\n",
      "2.6052926809    0.038734306297991454\n",
      "2.6634703325    0.04934485486140805\n",
      "2.6634703325    0.05006890382195754\n",
      "2.7097767484    0.04116293031767418\n",
      "2.7097767484    0.03936010375848702\n",
      "2.8001131432    0.033628103406314266\n",
      "4.6693388818    0.03926431983521863\n",
      "4.6693388818    0.03958798369850175\n",
      "4.8380261881    0.03185182743905141\n",
      "4.8380261881    0.03145140046181075\n",
      "5.5680202666    0.03967906561694908\n",
      "5.5680202666    0.039322696011781226\n",
      "5.7117212604    0.03223705296578235\n",
      "5.7117212604    0.03247747273429075\n"
     ]
    }
   ],
   "source": [
    "print (\"frequency      \", \"efrac\")\n",
    "for i,j in itertools.product(range(1,num_modes),range(1,num_atoms)):\n",
    "    if phonon_properties[i][j]['efrac']>0.03 and (j==95 or j==96):\n",
    "        print (phonon_properties[i]['freq'],\"  \",phonon_properties[i][j]['efrac']) "
   ]
  },
  {
   "cell_type": "markdown",
   "metadata": {},
   "source": [
    "An additional filter to locate those with a small IPR (high localisation) can also be used"
   ]
  },
  {
   "cell_type": "code",
   "execution_count": 27,
   "metadata": {},
   "outputs": [
    {
     "name": "stdout",
     "output_type": "stream",
     "text": [
      "frequency       IPR                 efrac\n",
      "1.5902196857    21.41996312648896   0.053566709865937284\n",
      "1.5902196857    21.41996312648896   0.05346389356289189\n",
      "4.6693388818    15.945765456646003   0.03926431983521863\n",
      "4.6693388818    15.945765456646003   0.03958798369850175\n",
      "5.5680202666    17.972819406014093   0.03967906561694908\n",
      "5.5680202666    17.972819406014093   0.039322696011781226\n"
     ]
    }
   ],
   "source": [
    "print (\"frequency      \", \"IPR                \",\"efrac\")\n",
    "for i,j in itertools.product(range(1,num_modes),range(1,num_atoms)):\n",
    "    if phonon_properties[i][j]['efrac']>0.03 and (j==95 or j==96) and phonon_properties[i]['IPR-distance']<25:\n",
    "        print (phonon_properties[i]['freq'],\"  \",phonon_properties[i]['IPR-distance'], \" \",phonon_properties[i][j]['efrac']) \n",
    "\n"
   ]
  },
  {
   "cell_type": "code",
   "execution_count": null,
   "metadata": {},
   "outputs": [],
   "source": []
  }
 ],
 "metadata": {
  "kernelspec": {
   "display_name": "Python 3",
   "language": "python",
   "name": "python3"
  },
  "language_info": {
   "codemirror_mode": {
    "name": "ipython",
    "version": 3
   },
   "file_extension": ".py",
   "mimetype": "text/x-python",
   "name": "python",
   "nbconvert_exporter": "python",
   "pygments_lexer": "ipython3",
   "version": "3.7.3"
  }
 },
 "nbformat": 4,
 "nbformat_minor": 1
}
